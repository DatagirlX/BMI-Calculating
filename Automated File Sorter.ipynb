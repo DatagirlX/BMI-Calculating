{
 "cells": [
  {
   "cell_type": "code",
   "execution_count": 18,
   "id": "15752855",
   "metadata": {},
   "outputs": [],
   "source": [
    "import os, shutil\n",
    "path = r\"C:/Users/Abasiofon Ime Moses/Downloads/\"\n",
    "file_name = os.listdir(path)\n"
   ]
  },
  {
   "cell_type": "code",
   "execution_count": 13,
   "id": "fb142197",
   "metadata": {},
   "outputs": [
    {
     "name": "stdout",
     "output_type": "stream",
     "text": [
      "C:/Users/Abasiofon Ime Moses/Downloads/PDFs\n",
      "C:/Users/Abasiofon Ime Moses/Downloads/Image files\n"
     ]
    }
   ],
   "source": [
    "folder_names = ['Excel files', 'Word files', 'PDFs', 'Image files']\n",
    "\n",
    "for loop in range(0,4):\n",
    "    if not os.path.exists(path + folder_names[loop]):\n",
    "        print(path + folder_names[loop])\n",
    "        os.makedirs(path + folder_names[loop])"
   ]
  },
  {
   "cell_type": "code",
   "execution_count": 23,
   "id": "d61bfe02",
   "metadata": {
    "scrolled": true
   },
   "outputs": [],
   "source": [
    "for file in file_name:\n",
    "    if \".xlsx\" in file and not os.path.exists(path + \"/Excel files/\" + file):\n",
    "        shutil.move(path + file, path + \"Excel files/\" + file)\n",
    "    elif \".docx\" in file and not os.path.exists(path + \"/Word files/\" + file):\n",
    "        shutil.move(path + file, path + \"Word files/\" + file)\n",
    "    elif \".pdf\" in file and not os.path.exists(path + \"/PDFs/\" + file):\n",
    "        shutil.move(path + file, path + \"PDFs/\" + file)\n",
    "    elif \".png\" in file and not os.path.exists(path + \"/Image files/\" + file):\n",
    "        shutil.move(path + file, path + \"Image files/\" + file)\n",
    "   "
   ]
  },
  {
   "cell_type": "code",
   "execution_count": null,
   "id": "4a2e4c99",
   "metadata": {},
   "outputs": [],
   "source": []
  }
 ],
 "metadata": {
  "kernelspec": {
   "display_name": "Python 3 (ipykernel)",
   "language": "python",
   "name": "python3"
  },
  "language_info": {
   "codemirror_mode": {
    "name": "ipython",
    "version": 3
   },
   "file_extension": ".py",
   "mimetype": "text/x-python",
   "name": "python",
   "nbconvert_exporter": "python",
   "pygments_lexer": "ipython3",
   "version": "3.10.9"
  }
 },
 "nbformat": 4,
 "nbformat_minor": 5
}
