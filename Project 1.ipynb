{
 "cells": [
  {
   "cell_type": "code",
   "execution_count": 12,
   "id": "bb401a25",
   "metadata": {},
   "outputs": [
    {
     "name": "stdout",
     "output_type": "stream",
     "text": [
      "Enter your name: Abas\n",
      "Enter your weight in pounds: 170\n",
      "Enter your height in inches: 69\n",
      "25.101869355177485\n",
      "Abas:You are Overweight. You need to exercise more and stop sitting and writing so many python codes\n"
     ]
    }
   ],
   "source": [
    "name = input(\"Enter your name: \")\n",
    "\n",
    "weight = int(input(\"Enter your weight in pounds: \"))\n",
    "\n",
    "height = int(input(\"Enter your height in inches: \"))\n",
    "\n",
    "BMI = (weight * 703)/(height * height)\n",
    "\n",
    "print(BMI)\n",
    "\n",
    "if BMI>0:\n",
    "    if(BMI<18.5):\n",
    "        print(name+\":\" + \"You are Underweight.\")\n",
    "    elif(BMI<=24.9):\n",
    "        print(name+\":\" + \"You are Normal Weight.\")\n",
    "    elif(BMI<29.9):\n",
    "        print(name+\":\" + \"You are Overweight. You need to exercise more and stop sitting and writing so many python codes\")\n",
    "    elif(BMI<34.9):\n",
    "        print(name+\":\" + \"You are Obese.\")\n",
    "    elif(BMI<39.9):\n",
    "        print(name+\":\" + \"You are severely obese.\")\n",
    "    else:\n",
    "        print(name+\":\" + \"You are morbidily obese\")\n",
    "else:\n",
    "    print(\"Enter valid inputs\")"
   ]
  },
  {
   "cell_type": "code",
   "execution_count": 10,
   "id": "30fe91a1",
   "metadata": {},
   "outputs": [
    {
     "name": "stdout",
     "output_type": "stream",
     "text": [
      "Abas:You are Overweight.\n"
     ]
    }
   ],
   "source": []
  },
  {
   "cell_type": "code",
   "execution_count": null,
   "id": "27ddd0bc",
   "metadata": {},
   "outputs": [],
   "source": []
  }
 ],
 "metadata": {
  "kernelspec": {
   "display_name": "Python 3 (ipykernel)",
   "language": "python",
   "name": "python3"
  },
  "language_info": {
   "codemirror_mode": {
    "name": "ipython",
    "version": 3
   },
   "file_extension": ".py",
   "mimetype": "text/x-python",
   "name": "python",
   "nbconvert_exporter": "python",
   "pygments_lexer": "ipython3",
   "version": "3.10.9"
  }
 },
 "nbformat": 4,
 "nbformat_minor": 5
}
